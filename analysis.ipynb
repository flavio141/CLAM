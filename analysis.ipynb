{
 "cells": [
  {
   "cell_type": "code",
   "execution_count": 62,
   "metadata": {},
   "outputs": [],
   "source": [
    "import pandas as pd\n",
    "import numpy as np\n",
    "import pickle\n",
    "import matplotlib.pyplot as plt\n",
    "from sklearn.metrics import confusion_matrix"
   ]
  },
  {
   "cell_type": "code",
   "execution_count": 40,
   "metadata": {},
   "outputs": [],
   "source": [
    "data_true = pd.read_csv('dataset_csv/tumor_subtyping.csv')"
   ]
  },
  {
   "cell_type": "code",
   "execution_count": 60,
   "metadata": {},
   "outputs": [],
   "source": [
    "matrices = {}\n",
    "\n",
    "for i in range(10):\n",
    "    data_pred = pd.read_pickle(f'results/task_2_tumor_subtyping_prostate_s1/split_{i}_results.pkl')\n",
    "\n",
    "    dictionary_pred = {}\n",
    "    dictionary_true = {}\n",
    "\n",
    "    label_pred = []\n",
    "    label_true = []\n",
    "\n",
    "    for dictionary in data_pred.items():\n",
    "        \n",
    "        dictionary_pred[dictionary[0]] = list(dictionary[1]['prob'].flatten()).index(max(list(dictionary[1]['prob'].flatten())))\n",
    "        dictionary_true[dictionary[0]] = data_true.loc[data_true['slide_id'] == dictionary[0], 'label'].item().replace('stage_2', '0').replace('stage_3', '1').replace('stage_4','2')\n",
    "\n",
    "\n",
    "    pred = [i for i in dictionary_pred.values()]\n",
    "    true = [int(i) for i in dictionary_true.values()]\n",
    "    matrices[i] = np.matrix(confusion_matrix(true, pred))"
   ]
  },
  {
   "cell_type": "code",
   "execution_count": 59,
   "metadata": {},
   "outputs": [
    {
     "data": {
      "text/plain": [
       "matrix([[ 79,  79,   9],\n",
       "        [ 72, 165,  10],\n",
       "        [  5,   4,   2]])"
      ]
     },
     "execution_count": 59,
     "metadata": {},
     "output_type": "execute_result"
    }
   ],
   "source": [
    "sum([i for i in matrices.values()])"
   ]
  },
  {
   "cell_type": "code",
   "execution_count": 65,
   "metadata": {},
   "outputs": [
    {
     "data": {
      "image/png": "[encoded data removed]",
      "text/plain": [
       "<Figure size 480x480 with 2 Axes>"
      ]
     },
     "metadata": {},
     "output_type": "display_data"
    }
   ],
   "source": [
    "plt.matshow(sum([i for i in matrices.values()]), cmap=plt.cm.Blues)\n",
    "plt.colorbar()\n",
    "plt.show()"
   ]
  },
  {
   "cell_type": "code",
   "execution_count": null,
   "metadata": {},
   "outputs": [],
   "source": []
  }
 ],
 "metadata": {
  "kernelspec": {
   "display_name": "Python 3",
   "language": "python",
   "name": "python3"
  },
  "language_info": {
   "codemirror_mode": {
    "name": "ipython",
    "version": 3
   },
   "file_extension": ".py",
   "mimetype": "text/x-python",
   "name": "python",
   "nbconvert_exporter": "python",
   "pygments_lexer": "ipython3",
   "version": "3.11.0"
  },
  "orig_nbformat": 4
 },
 "nbformat": 4,
 "nbformat_minor": 2
}
